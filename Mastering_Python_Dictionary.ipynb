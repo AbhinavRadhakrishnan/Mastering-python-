{
  "nbformat": 4,
  "nbformat_minor": 0,
  "metadata": {
    "colab": {
      "provenance": [],
      "authorship_tag": "ABX9TyPQALhh4efRP5I9caqiXbAl",
      "include_colab_link": true
    },
    "kernelspec": {
      "name": "python3",
      "display_name": "Python 3"
    },
    "language_info": {
      "name": "python"
    }
  },
  "cells": [
    {
      "cell_type": "markdown",
      "metadata": {
        "id": "view-in-github",
        "colab_type": "text"
      },
      "source": [
        "<a href=\"https://colab.research.google.com/github/AbhinavRadhakrishnan/Mastering-python-/blob/main/Mastering_Python_Dictionary.ipynb\" target=\"_parent\"><img src=\"https://colab.research.google.com/assets/colab-badge.svg\" alt=\"Open In Colab\"/></a>"
      ]
    },
    {
      "cell_type": "code",
      "execution_count": 1,
      "metadata": {
        "colab": {
          "base_uri": "https://localhost:8080/"
        },
        "id": "HYbHtER26aJW",
        "outputId": "7f50128f-80a5-4778-b9b8-0356a8863936"
      },
      "outputs": [
        {
          "output_type": "stream",
          "name": "stdout",
          "text": [
            "<class 'dict'>\n"
          ]
        }
      ],
      "source": [
        "#creating dictionary\n",
        "empty_dict ={}\n",
        "print(type(empty_dict))"
      ]
    },
    {
      "cell_type": "code",
      "source": [
        "empty_dict=dict()\n",
        "empty_dict"
      ],
      "metadata": {
        "colab": {
          "base_uri": "https://localhost:8080/"
        },
        "id": "6_ZcS3RP7Q0f",
        "outputId": "c2476dce-b31d-49b2-9d31-f19e7a6b1cc5"
      },
      "execution_count": 3,
      "outputs": [
        {
          "output_type": "execute_result",
          "data": {
            "text/plain": [
              "{}"
            ]
          },
          "metadata": {},
          "execution_count": 3
        }
      ]
    },
    {
      "cell_type": "code",
      "source": [
        "student={\"name\":\"Abhi\",\n",
        "          \"age\":24,\n",
        "         \"grade\" : \"a\"}\n",
        "print(student)"
      ],
      "metadata": {
        "colab": {
          "base_uri": "https://localhost:8080/"
        },
        "id": "FnrW2Yhf7W_A",
        "outputId": "b0952b0d-3f48-4f6d-deff-c3c60a757db8"
      },
      "execution_count": 4,
      "outputs": [
        {
          "output_type": "stream",
          "name": "stdout",
          "text": [
            "{'name': 'Abhi', 'age': 24, 'grade': 'a'}\n"
          ]
        }
      ]
    },
    {
      "cell_type": "code",
      "source": [
        "#error happen if we mention same two keys,key should be unique"
      ],
      "metadata": {
        "id": "s_W6ECMF7pwK"
      },
      "execution_count": 6,
      "outputs": []
    },
    {
      "cell_type": "code",
      "source": [
        "#accesing values\n",
        "student={\"name\":\"Abhi\",\n",
        "          \"age\":24,\n",
        "         \"grade\" : \"a\"}\n",
        ""
      ],
      "metadata": {
        "id": "GCq3UFkZ7wRj"
      },
      "execution_count": 7,
      "outputs": []
    },
    {
      "cell_type": "code",
      "source": [
        "print(student['name'])"
      ],
      "metadata": {
        "colab": {
          "base_uri": "https://localhost:8080/"
        },
        "id": "S40AE_O08EHh",
        "outputId": "14d7c34d-a595-40fa-bf63-46d0446b4b8f"
      },
      "execution_count": 8,
      "outputs": [
        {
          "output_type": "stream",
          "name": "stdout",
          "text": [
            "Abhi\n"
          ]
        }
      ]
    },
    {
      "cell_type": "code",
      "source": [
        "print(student[\"age\"])"
      ],
      "metadata": {
        "colab": {
          "base_uri": "https://localhost:8080/"
        },
        "id": "YP9kMR968G8C",
        "outputId": "3984adda-ce39-4c05-b4e9-60694e97a742"
      },
      "execution_count": 9,
      "outputs": [
        {
          "output_type": "stream",
          "name": "stdout",
          "text": [
            "24\n"
          ]
        }
      ]
    },
    {
      "cell_type": "code",
      "source": [
        "#accessing using get method\n",
        "print(student.get('grade'))\n",
        "print(student.get('last name')) #there is no such key\n",
        "print(student.get('last name',\"Not availabe\")) #giving a default value"
      ],
      "metadata": {
        "colab": {
          "base_uri": "https://localhost:8080/"
        },
        "id": "J9BnAFNq8OJn",
        "outputId": "800af3eb-d9ac-4e9c-bcd2-12cb6e27567b"
      },
      "execution_count": 13,
      "outputs": [
        {
          "output_type": "stream",
          "name": "stdout",
          "text": [
            "a\n",
            "None\n",
            "Not availabe\n"
          ]
        }
      ]
    },
    {
      "cell_type": "code",
      "source": [
        "#modify dict elements\n",
        "print(student)"
      ],
      "metadata": {
        "colab": {
          "base_uri": "https://localhost:8080/"
        },
        "id": "y5XxdY6t8Uu0",
        "outputId": "a8387d53-77d3-470e-9f8f-1ebb8252d85a"
      },
      "execution_count": 14,
      "outputs": [
        {
          "output_type": "stream",
          "name": "stdout",
          "text": [
            "{'name': 'Abhi', 'age': 24, 'grade': 'a'}\n"
          ]
        }
      ]
    },
    {
      "cell_type": "code",
      "source": [
        "student['age']=30\n",
        "print(student)\n",
        "student[\"Country\"]='India'\n",
        "print(student)"
      ],
      "metadata": {
        "colab": {
          "base_uri": "https://localhost:8080/"
        },
        "id": "PVi1ayjF8xfO",
        "outputId": "7081b8cc-8621-43b4-cee1-9e7590dc852c"
      },
      "execution_count": 21,
      "outputs": [
        {
          "output_type": "stream",
          "name": "stdout",
          "text": [
            "{'name': 'Abhi', 'age': 30, 'grade': 'a'}\n",
            "{'name': 'Abhi', 'age': 30, 'grade': 'a', 'Country': 'India'}\n"
          ]
        }
      ]
    },
    {
      "cell_type": "code",
      "source": [
        "#deleting key\n",
        "print(student)\n",
        "del student['Country']\n",
        "print(student)"
      ],
      "metadata": {
        "colab": {
          "base_uri": "https://localhost:8080/"
        },
        "id": "fP9qRGDQ8-GP",
        "outputId": "ddd2029a-4d81-4517-956e-ddbdd7baa362"
      },
      "execution_count": 22,
      "outputs": [
        {
          "output_type": "stream",
          "name": "stdout",
          "text": [
            "{'name': 'Abhi', 'age': 30, 'grade': 'a', 'Country': 'India'}\n",
            "{'name': 'Abhi', 'age': 30, 'grade': 'a'}\n"
          ]
        }
      ]
    },
    {
      "cell_type": "code",
      "source": [
        "#dict methods\n",
        "\n",
        "keys=student.keys()\n",
        "print(keys)\n",
        "values=student.values()\n",
        "print(values)\n",
        "\n",
        "items = student.items()#get all key-value pairs\n",
        "print(items)"
      ],
      "metadata": {
        "colab": {
          "base_uri": "https://localhost:8080/"
        },
        "id": "QfFeij939LzA",
        "outputId": "4a85378f-6c92-4b4e-b2d8-5f5461f0bf3b"
      },
      "execution_count": 24,
      "outputs": [
        {
          "output_type": "stream",
          "name": "stdout",
          "text": [
            "dict_keys(['name', 'age', 'grade'])\n",
            "dict_values(['Abhi', 30, 'a'])\n",
            "dict_items([('name', 'Abhi'), ('age', 30), ('grade', 'a')])\n"
          ]
        }
      ]
    },
    {
      "cell_type": "code",
      "source": [
        "#shallow copy\n",
        "student_copy=student\n",
        "print(student)\n",
        "print(student_copy)"
      ],
      "metadata": {
        "colab": {
          "base_uri": "https://localhost:8080/"
        },
        "id": "fDeOCNK39yG-",
        "outputId": "16a64aa5-7639-4894-a5b7-69c9db3b2068"
      },
      "execution_count": 25,
      "outputs": [
        {
          "output_type": "stream",
          "name": "stdout",
          "text": [
            "{'name': 'Abhi', 'age': 30, 'grade': 'a'}\n",
            "{'name': 'Abhi', 'age': 30, 'grade': 'a'}\n"
          ]
        }
      ]
    },
    {
      "cell_type": "code",
      "source": [
        "student['name']=\"aswin\"\n",
        "print(student)\n",
        "print(student_copy) #same update happend here\n"
      ],
      "metadata": {
        "colab": {
          "base_uri": "https://localhost:8080/"
        },
        "id": "bbe0uPVv-FXF",
        "outputId": "8eb93621-8f97-4376-a81a-e75469a5f65e"
      },
      "execution_count": 26,
      "outputs": [
        {
          "output_type": "stream",
          "name": "stdout",
          "text": [
            "{'name': 'aswin', 'age': 30, 'grade': 'a'}\n",
            "{'name': 'aswin', 'age': 30, 'grade': 'a'}\n"
          ]
        }
      ]
    },
    {
      "cell_type": "code",
      "source": [
        "student_copy1=student.copy()#shallow copy\n",
        "print(student_copy)\n",
        "print(student)"
      ],
      "metadata": {
        "colab": {
          "base_uri": "https://localhost:8080/"
        },
        "id": "LmQ_S3UY-PNf",
        "outputId": "40cf840c-30ea-4237-fd78-f0244bd1e735"
      },
      "execution_count": 28,
      "outputs": [
        {
          "output_type": "stream",
          "name": "stdout",
          "text": [
            "{'name': 'aswin', 'age': 30, 'grade': 'a'}\n",
            "{'name': 'aswin', 'age': 30, 'grade': 'a'}\n"
          ]
        }
      ]
    },
    {
      "cell_type": "code",
      "source": [
        "student['age']=50\n",
        "print(student)\n",
        "print(student_copy1)"
      ],
      "metadata": {
        "colab": {
          "base_uri": "https://localhost:8080/"
        },
        "id": "ajqJwOdM-mHE",
        "outputId": "8919d78a-3cd9-4d55-d853-b8ecf75bfe81"
      },
      "execution_count": 29,
      "outputs": [
        {
          "output_type": "stream",
          "name": "stdout",
          "text": [
            "{'name': 'aswin', 'age': 50, 'grade': 'a'}\n",
            "{'name': 'aswin', 'age': 30, 'grade': 'a'}\n"
          ]
        }
      ]
    },
    {
      "cell_type": "code",
      "source": [
        "#iterating over dict\n",
        "for key in student.keys():\n",
        "  print(key)"
      ],
      "metadata": {
        "colab": {
          "base_uri": "https://localhost:8080/"
        },
        "id": "fvpHp3Sf-zoU",
        "outputId": "4f3853de-9381-4d48-abf2-20338cb48b1b"
      },
      "execution_count": 34,
      "outputs": [
        {
          "output_type": "stream",
          "name": "stdout",
          "text": [
            "name\n",
            "age\n",
            "grade\n"
          ]
        }
      ]
    },
    {
      "cell_type": "code",
      "source": [
        "for value in student.values():\n",
        "  print(value)"
      ],
      "metadata": {
        "colab": {
          "base_uri": "https://localhost:8080/"
        },
        "id": "L-9tqzqL_HEg",
        "outputId": "00b3fbb4-9a14-4e68-e4ef-86a302902b02"
      },
      "execution_count": 35,
      "outputs": [
        {
          "output_type": "stream",
          "name": "stdout",
          "text": [
            "aswin\n",
            "50\n",
            "a\n"
          ]
        }
      ]
    },
    {
      "cell_type": "code",
      "source": [
        "for key,value in student.items():\n",
        "  print(f\"{key}:{value}\")"
      ],
      "metadata": {
        "colab": {
          "base_uri": "https://localhost:8080/"
        },
        "id": "Srhvas0X_My0",
        "outputId": "6aa5ad41-7cec-4fd6-e52d-ea1c98af83ec"
      },
      "execution_count": 37,
      "outputs": [
        {
          "output_type": "stream",
          "name": "stdout",
          "text": [
            "name:aswin\n",
            "age:50\n",
            "grade:a\n"
          ]
        }
      ]
    },
    {
      "cell_type": "code",
      "source": [
        "#nested dict\n",
        "students={\n",
        "    \"student1\":{\"name\":\"abhi\",\"age\":24},\n",
        "    \"student2\":{\"name\":\"jithin\",\"age\":25}\n",
        "}\n",
        "print(students)"
      ],
      "metadata": {
        "colab": {
          "base_uri": "https://localhost:8080/"
        },
        "id": "5a8AzK17_xpH",
        "outputId": "f897656a-be4a-4841-e1b5-c08a1b21b16f"
      },
      "execution_count": 38,
      "outputs": [
        {
          "output_type": "stream",
          "name": "stdout",
          "text": [
            "{'student1': {'name': 'abhi', 'age': 24}, 'student2': {'name': 'jithin', 'age': 25}}\n"
          ]
        }
      ]
    },
    {
      "cell_type": "code",
      "source": [
        "#Access nested dict elemets\n",
        "print(students[\"student2\"][\"name\"])\n",
        "print(students['student1'][\"name\"])"
      ],
      "metadata": {
        "colab": {
          "base_uri": "https://localhost:8080/"
        },
        "id": "RQT4hvuY_3rv",
        "outputId": "04e53fb5-33d3-44bf-d076-41fd74822fae"
      },
      "execution_count": 39,
      "outputs": [
        {
          "output_type": "stream",
          "name": "stdout",
          "text": [
            "jithin\n",
            "abhi\n"
          ]
        }
      ]
    },
    {
      "cell_type": "code",
      "source": [
        "#itterating over nested dict\n",
        "for id,info in students.items():\n",
        "  print(f\"{id}:{info}\")\n",
        "  for key,value in info.items():\n",
        "    print(f\"{key}:{value}\")"
      ],
      "metadata": {
        "colab": {
          "base_uri": "https://localhost:8080/"
        },
        "id": "HLd-RCmH_3hX",
        "outputId": "91cf16ae-199a-46fd-8292-3a2f6392c11b"
      },
      "execution_count": 42,
      "outputs": [
        {
          "output_type": "stream",
          "name": "stdout",
          "text": [
            "student1:{'name': 'abhi', 'age': 24}\n",
            "name:abhi\n",
            "age:24\n",
            "student2:{'name': 'jithin', 'age': 25}\n",
            "name:jithin\n",
            "age:25\n"
          ]
        }
      ]
    },
    {
      "cell_type": "code",
      "source": [
        "squares={}\n",
        "for x in range(10):\n",
        "  squares[x]=x**2\n",
        "print(squares)"
      ],
      "metadata": {
        "colab": {
          "base_uri": "https://localhost:8080/"
        },
        "id": "tdat1OzyFccN",
        "outputId": "2cdd0741-1541-4233-c2d5-a176fa38c288"
      },
      "execution_count": 58,
      "outputs": [
        {
          "output_type": "stream",
          "name": "stdout",
          "text": [
            "{0: 0, 1: 1, 2: 4, 3: 9, 4: 16, 5: 25, 6: 36, 7: 49, 8: 64, 9: 81}\n"
          ]
        }
      ]
    },
    {
      "cell_type": "code",
      "source": [
        "squares={}\n",
        "print(type(squares))\n",
        "for x in range(20):\n",
        "  if x%2==0:\n",
        "    squares[x]=x**2\n",
        "print(squares)"
      ],
      "metadata": {
        "colab": {
          "base_uri": "https://localhost:8080/"
        },
        "id": "GlvM0oMuFtEv",
        "outputId": "7b1222fa-f5b9-4da8-ae19-aa04df0d97bf"
      },
      "execution_count": 60,
      "outputs": [
        {
          "output_type": "stream",
          "name": "stdout",
          "text": [
            "<class 'dict'>\n",
            "{0: 0, 2: 4, 4: 16, 6: 36, 8: 64, 10: 100, 12: 144, 14: 196, 16: 256, 18: 324}\n"
          ]
        }
      ]
    },
    {
      "cell_type": "code",
      "source": [
        "#dict comprehension\n",
        "squares={x:x**2 for x in range(5)}\n",
        "print(squares)"
      ],
      "metadata": {
        "colab": {
          "base_uri": "https://localhost:8080/"
        },
        "id": "07yxvO6-_3e4",
        "outputId": "1f01a313-a4ef-4663-bce3-77cc7b58337d"
      },
      "execution_count": 44,
      "outputs": [
        {
          "output_type": "stream",
          "name": "stdout",
          "text": [
            "{0: 0, 1: 1, 2: 4, 3: 9, 4: 16}\n"
          ]
        }
      ]
    },
    {
      "cell_type": "code",
      "source": [
        "squares_even={x:x**2 for x in range(20) if x%2==0}"
      ],
      "metadata": {
        "id": "gRxzWJWDBzNd"
      },
      "execution_count": 46,
      "outputs": []
    },
    {
      "cell_type": "code",
      "source": [
        "print(squares_even)"
      ],
      "metadata": {
        "colab": {
          "base_uri": "https://localhost:8080/"
        },
        "id": "m8h4l8IFCz1u",
        "outputId": "bd3775e0-390c-4aed-ac53-bba6e8dda5c0"
      },
      "execution_count": 47,
      "outputs": [
        {
          "output_type": "stream",
          "name": "stdout",
          "text": [
            "{0: 0, 2: 4, 4: 16, 6: 36, 8: 64, 10: 100, 12: 144, 14: 196, 16: 256, 18: 324}\n"
          ]
        }
      ]
    },
    {
      "cell_type": "code",
      "source": [
        "#practical examples"
      ],
      "metadata": {
        "id": "RXZ7_FpjC1eD"
      },
      "execution_count": 56,
      "outputs": []
    },
    {
      "cell_type": "code",
      "source": [
        "#use a dict to count the frequency of elements in list\n",
        "numbers=[1,2,2,3,3,4,4,4,4]\n",
        "frequency={}\n",
        "for num in numbers:\n",
        "  if num in frequency:\n",
        "    frequency[num]+=1\n",
        "  else:\n",
        "    frequency[num]=1\n",
        "print(frequency)\n",
        "\n"
      ],
      "metadata": {
        "colab": {
          "base_uri": "https://localhost:8080/"
        },
        "id": "wp_0whttEhgc",
        "outputId": "c0f59029-d380-4281-923c-e309cdb395bb"
      },
      "execution_count": 57,
      "outputs": [
        {
          "output_type": "stream",
          "name": "stdout",
          "text": [
            "{1: 1, 2: 2, 3: 2, 4: 4}\n"
          ]
        }
      ]
    },
    {
      "cell_type": "code",
      "source": [
        "#merge 2 dict into 1\n",
        "dict1={\"a\":1,\"b\":2}\n",
        "dict2={\"b\":3,\"c\":4}\n",
        "merged_dict={**dict1,**dict2}#keyword arguments\n",
        "print(merged_dict)\n"
      ],
      "metadata": {
        "id": "I4C8GYaYFXSc"
      },
      "execution_count": null,
      "outputs": []
    }
  ]
}