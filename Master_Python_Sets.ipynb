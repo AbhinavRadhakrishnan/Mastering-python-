{
  "nbformat": 4,
  "nbformat_minor": 0,
  "metadata": {
    "colab": {
      "provenance": [],
      "authorship_tag": "ABX9TyM4VtOxD7Qe9tDj0ay8VKYB",
      "include_colab_link": true
    },
    "kernelspec": {
      "name": "python3",
      "display_name": "Python 3"
    },
    "language_info": {
      "name": "python"
    }
  },
  "cells": [
    {
      "cell_type": "markdown",
      "metadata": {
        "id": "view-in-github",
        "colab_type": "text"
      },
      "source": [
        "<a href=\"https://colab.research.google.com/github/AbhinavRadhakrishnan/Mastering-python-/blob/main/Master_Python_Sets.ipynb\" target=\"_parent\"><img src=\"https://colab.research.google.com/assets/colab-badge.svg\" alt=\"Open In Colab\"/></a>"
      ]
    },
    {
      "cell_type": "code",
      "execution_count": 1,
      "metadata": {
        "colab": {
          "base_uri": "https://localhost:8080/"
        },
        "id": "3Uw8juYCaFxN",
        "outputId": "d84bb422-59e7-4c07-9278-6725f7879985"
      },
      "outputs": [
        {
          "output_type": "stream",
          "name": "stdout",
          "text": [
            "{1, 2, 3, 4, 5}\n"
          ]
        }
      ],
      "source": [
        "set1={1,2,3,4,5}\n",
        "print(set1)"
      ]
    },
    {
      "cell_type": "code",
      "source": [
        "my_set = set([1,2,3,4,5,5,5,5])#added duplicate entries"
      ],
      "metadata": {
        "id": "Eo9cQ-NramhJ"
      },
      "execution_count": 8,
      "outputs": []
    },
    {
      "cell_type": "code",
      "source": [
        "print(type(my_set))\n",
        "print(type(set1))"
      ],
      "metadata": {
        "colab": {
          "base_uri": "https://localhost:8080/"
        },
        "id": "28JQtYp8avOO",
        "outputId": "724b91c2-7504-480e-8c78-39705ba7a73a"
      },
      "execution_count": 9,
      "outputs": [
        {
          "output_type": "stream",
          "name": "stdout",
          "text": [
            "<class 'set'>\n",
            "<class 'set'>\n"
          ]
        }
      ]
    },
    {
      "cell_type": "code",
      "source": [
        "print(my_set)#not displayed duplicate entries"
      ],
      "metadata": {
        "colab": {
          "base_uri": "https://localhost:8080/"
        },
        "id": "zT58ml0cayUp",
        "outputId": "2d58aab1-7caa-4d5b-bb4c-6754f3f2ddef"
      },
      "execution_count": 10,
      "outputs": [
        {
          "output_type": "stream",
          "name": "stdout",
          "text": [
            "{1, 2, 3, 4, 5}\n"
          ]
        }
      ]
    },
    {
      "cell_type": "code",
      "source": [
        "my_set.add(\"a\")\n",
        "print(my_set)\n",
        "my_set.add(\"a\")\n",
        "print(my_set)"
      ],
      "metadata": {
        "colab": {
          "base_uri": "https://localhost:8080/"
        },
        "id": "s3N9qB2EbBLy",
        "outputId": "015a8f2c-dec3-45dd-e6f3-7abb755479aa"
      },
      "execution_count": 12,
      "outputs": [
        {
          "output_type": "stream",
          "name": "stdout",
          "text": [
            "{1, 2, 3, 4, 5, 'a'}\n",
            "{1, 2, 3, 4, 5, 'a'}\n"
          ]
        }
      ]
    },
    {
      "cell_type": "code",
      "source": [
        "#removing elemnt\n",
        "my_set.remove(1)\n",
        "print(my_set)"
      ],
      "metadata": {
        "colab": {
          "base_uri": "https://localhost:8080/"
        },
        "id": "KGZmL15obRrF",
        "outputId": "f570e171-0abd-4176-e7e8-3ab3758eb4df"
      },
      "execution_count": 17,
      "outputs": [
        {
          "output_type": "stream",
          "name": "stdout",
          "text": [
            "{2, 4, 5, 'a'}\n"
          ]
        }
      ]
    },
    {
      "cell_type": "code",
      "source": [
        "my_set\n",
        "\n"
      ],
      "metadata": {
        "colab": {
          "base_uri": "https://localhost:8080/"
        },
        "id": "dXejFY6ab9Gn",
        "outputId": "6f14f877-608f-4083-ed41-6f3e98e01866"
      },
      "execution_count": 18,
      "outputs": [
        {
          "output_type": "execute_result",
          "data": {
            "text/plain": [
              "{2, 4, 5, 'a'}"
            ]
          },
          "metadata": {},
          "execution_count": 18
        }
      ]
    },
    {
      "cell_type": "code",
      "source": [
        "my_set.remove(1)"
      ],
      "metadata": {
        "colab": {
          "base_uri": "https://localhost:8080/",
          "height": 179
        },
        "id": "T74Sb6CpcNT0",
        "outputId": "817918e5-217b-4e0a-e71f-0fa9dcf72429"
      },
      "execution_count": 19,
      "outputs": [
        {
          "output_type": "error",
          "ename": "KeyError",
          "evalue": "1",
          "traceback": [
            "\u001b[0;31m---------------------------------------------------------------------------\u001b[0m",
            "\u001b[0;31mKeyError\u001b[0m                                  Traceback (most recent call last)",
            "\u001b[0;32m/tmp/ipython-input-4254573298.py\u001b[0m in \u001b[0;36m<cell line: 0>\u001b[0;34m()\u001b[0m\n\u001b[0;32m----> 1\u001b[0;31m \u001b[0mmy_set\u001b[0m\u001b[0;34m.\u001b[0m\u001b[0mremove\u001b[0m\u001b[0;34m(\u001b[0m\u001b[0;36m1\u001b[0m\u001b[0;34m)\u001b[0m\u001b[0;34m\u001b[0m\u001b[0;34m\u001b[0m\u001b[0m\n\u001b[0m",
            "\u001b[0;31mKeyError\u001b[0m: 1"
          ]
        }
      ]
    },
    {
      "cell_type": "code",
      "source": [
        "my_set.discard(11)# here we are not getting any errors even if there is no value in the list\n",
        "\n",
        "print(my_set)"
      ],
      "metadata": {
        "colab": {
          "base_uri": "https://localhost:8080/"
        },
        "id": "j1Pl4oercQrS",
        "outputId": "b5b1e8af-b8c7-4d82-8630-9cd4f9404bfe"
      },
      "execution_count": 21,
      "outputs": [
        {
          "output_type": "stream",
          "name": "stdout",
          "text": [
            "{2, 4, 5, 'a'}\n"
          ]
        }
      ]
    },
    {
      "cell_type": "code",
      "source": [
        "#pop method\n",
        "removed_item = my_set.pop()\n",
        "print(removed_item)\n",
        "print(my_set)"
      ],
      "metadata": {
        "colab": {
          "base_uri": "https://localhost:8080/"
        },
        "id": "WfA2i44icYVQ",
        "outputId": "a1f9818f-eb9d-4f8a-a0df-7e8ffeb1abdf"
      },
      "execution_count": 23,
      "outputs": [
        {
          "output_type": "stream",
          "name": "stdout",
          "text": [
            "4\n",
            "{5, 'a'}\n"
          ]
        }
      ]
    },
    {
      "cell_type": "code",
      "source": [
        "#clear all the elemrnts\n",
        "my_set.clear()"
      ],
      "metadata": {
        "id": "od08ki2jeHuw"
      },
      "execution_count": 24,
      "outputs": []
    },
    {
      "cell_type": "code",
      "source": [
        "print(my_set)"
      ],
      "metadata": {
        "colab": {
          "base_uri": "https://localhost:8080/"
        },
        "id": "2UyhHQKkeX00",
        "outputId": "2c4f0ca1-68a6-4984-9ba1-0ba871d224b1"
      },
      "execution_count": 25,
      "outputs": [
        {
          "output_type": "stream",
          "name": "stdout",
          "text": [
            "set()\n"
          ]
        }
      ]
    },
    {
      "cell_type": "code",
      "source": [
        "#set membership test\n",
        "my_set = set({1,2,3,4,5})\n",
        "print(3 in my_set)\n",
        "print(6 in my_set)"
      ],
      "metadata": {
        "colab": {
          "base_uri": "https://localhost:8080/"
        },
        "id": "wkgn6BCNeZuw",
        "outputId": "a63d1951-de20-4f02-9c0f-3e1b6828485e"
      },
      "execution_count": 26,
      "outputs": [
        {
          "output_type": "stream",
          "name": "stdout",
          "text": [
            "True\n",
            "False\n"
          ]
        }
      ]
    },
    {
      "cell_type": "code",
      "source": [
        "#mathematical operations\n",
        "set1={1,2,3,4,5,6}\n",
        "set2={4,5,6,7,8,9}\n",
        "\n",
        "##union\n",
        "union_set = set1.union(set2)\n",
        "print(union_set)\n",
        "\n",
        "#intersection\n",
        "inter_set = set1.intersection(set2)\n",
        "print(inter_set)\n",
        "\n",
        "set1.intersection_update(set2)#this operation will reflect back in the og set\n",
        "print(set1)\n",
        "\n",
        "\n",
        "\n"
      ],
      "metadata": {
        "colab": {
          "base_uri": "https://localhost:8080/"
        },
        "id": "Xnz5w0n4ekxS",
        "outputId": "aae5a2e4-5690-4896-db07-0cb5bc4c0bd4"
      },
      "execution_count": 33,
      "outputs": [
        {
          "output_type": "stream",
          "name": "stdout",
          "text": [
            "{1, 2, 3, 4, 5, 6, 7, 8, 9}\n",
            "{4, 5, 6}\n",
            "{4, 5, 6}\n",
            "set()\n"
          ]
        }
      ]
    },
    {
      "cell_type": "code",
      "source": [
        "set1={1,2,3,4,5,6,7,8}\n",
        "set2={6,7,8,9,10,11,12}\n",
        "#difference\n",
        "print(set1.difference(set2))\n",
        "set2.difference(set1)"
      ],
      "metadata": {
        "colab": {
          "base_uri": "https://localhost:8080/"
        },
        "id": "mnppDNA3e37Y",
        "outputId": "6eb682ae-4b56-4455-fbab-9c9f7d327ec6"
      },
      "execution_count": 35,
      "outputs": [
        {
          "output_type": "stream",
          "name": "stdout",
          "text": [
            "{1, 2, 3, 4, 5}\n"
          ]
        },
        {
          "output_type": "execute_result",
          "data": {
            "text/plain": [
              "{9, 10, 11, 12}"
            ]
          },
          "metadata": {},
          "execution_count": 35
        }
      ]
    },
    {
      "cell_type": "code",
      "source": [
        "#symmetric difference\n",
        "set1.symmetric_difference(set2) #intersection element or common elements got removed"
      ],
      "metadata": {
        "colab": {
          "base_uri": "https://localhost:8080/"
        },
        "id": "1G0BWXzHf1Pf",
        "outputId": "233908b1-7a3c-4869-a8f7-586e56da1191"
      },
      "execution_count": 37,
      "outputs": [
        {
          "output_type": "execute_result",
          "data": {
            "text/plain": [
              "{1, 2, 3, 4, 5, 9, 10, 11, 12}"
            ]
          },
          "metadata": {},
          "execution_count": 37
        }
      ]
    },
    {
      "cell_type": "code",
      "source": [
        "#Set methods\n",
        "set1={1,2,3}\n",
        "set2={3,4,5}\n",
        "print(set1.issubset(set2))\n",
        "print(set1.issuperset(set2))"
      ],
      "metadata": {
        "colab": {
          "base_uri": "https://localhost:8080/"
        },
        "id": "eaN5mZhKgJIX",
        "outputId": "34d974ac-133e-43ef-eacc-3e7acd3b20eb"
      },
      "execution_count": 40,
      "outputs": [
        {
          "output_type": "stream",
          "name": "stdout",
          "text": [
            "False\n",
            "False\n"
          ]
        }
      ]
    },
    {
      "cell_type": "code",
      "source": [
        "lst =[1,2,3,3,4,4,5]\n",
        "set(lst)"
      ],
      "metadata": {
        "colab": {
          "base_uri": "https://localhost:8080/"
        },
        "id": "hGEKlkotgeHF",
        "outputId": "ffc8fe9c-e051-4128-8271-a403f97b27d3"
      },
      "execution_count": 41,
      "outputs": [
        {
          "output_type": "execute_result",
          "data": {
            "text/plain": [
              "{1, 2, 3, 4, 5}"
            ]
          },
          "metadata": {},
          "execution_count": 41
        }
      ]
    },
    {
      "cell_type": "code",
      "source": [
        "#counting uniqe words in text\n",
        "\n",
        "text=\"In this tutorial we are discussing about sets\"\n",
        "words= text.split()\n",
        "unique_words = set(words)\n",
        "print(unique_words)\n",
        "print(len(unique_words))\n",
        "\n"
      ],
      "metadata": {
        "colab": {
          "base_uri": "https://localhost:8080/"
        },
        "id": "cGwC4-NGg0zQ",
        "outputId": "4250e1e4-22ee-4b05-d750-d724a2208d55"
      },
      "execution_count": 43,
      "outputs": [
        {
          "output_type": "stream",
          "name": "stdout",
          "text": [
            "{'discussing', 'In', 'this', 'about', 'sets', 'tutorial', 'are', 'we'}\n",
            "8\n"
          ]
        }
      ]
    },
    {
      "cell_type": "code",
      "source": [],
      "metadata": {
        "id": "qMyvQHNShSwv"
      },
      "execution_count": null,
      "outputs": []
    }
  ]
}