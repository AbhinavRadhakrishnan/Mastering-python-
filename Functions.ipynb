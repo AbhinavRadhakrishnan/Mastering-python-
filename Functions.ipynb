{
  "nbformat": 4,
  "nbformat_minor": 0,
  "metadata": {
    "colab": {
      "provenance": [],
      "authorship_tag": "ABX9TyOaB1ZOOOcq02F08Gi3knec",
      "include_colab_link": true
    },
    "kernelspec": {
      "name": "python3",
      "display_name": "Python 3"
    },
    "language_info": {
      "name": "python"
    }
  },
  "cells": [
    {
      "cell_type": "markdown",
      "metadata": {
        "id": "view-in-github",
        "colab_type": "text"
      },
      "source": [
        "<a href=\"https://colab.research.google.com/github/AbhinavRadhakrishnan/Mastering-python-/blob/main/Functions.ipynb\" target=\"_parent\"><img src=\"https://colab.research.google.com/assets/colab-badge.svg\" alt=\"Open In Colab\"/></a>"
      ]
    },
    {
      "cell_type": "code",
      "execution_count": 1,
      "metadata": {
        "id": "oN0CYYJ4F-hT"
      },
      "outputs": [],
      "source": [
        "#syntax\n",
        "def function_name(parameters):\n",
        "  \"\"\"Docstring\"\"\"\n",
        "  #function body\n",
        "  return expression"
      ]
    },
    {
      "cell_type": "code",
      "source": [
        "#why  function\n",
        "num=24\n",
        "if num%2==0:\n",
        "  print(\"even\")\n",
        "else:\n",
        "  print(\"odd\")"
      ],
      "metadata": {
        "colab": {
          "base_uri": "https://localhost:8080/"
        },
        "id": "mXLrZ9vyGLNb",
        "outputId": "ddb194ed-3e7a-4d62-e649-88485dc23a1f"
      },
      "execution_count": 2,
      "outputs": [
        {
          "output_type": "stream",
          "name": "stdout",
          "text": [
            "even\n"
          ]
        }
      ]
    },
    {
      "cell_type": "code",
      "source": [
        "def even_or_odd(num):\n",
        "  \"\"\"this functions finds even or odd\"\"\"\n",
        "  if num%2==0:\n",
        "    print(\"even\")\n",
        "  else:\n",
        "    print(\"odd\")"
      ],
      "metadata": {
        "id": "x4NnEVtcGLK-"
      },
      "execution_count": 4,
      "outputs": []
    },
    {
      "cell_type": "code",
      "source": [
        "even_or_odd(31)"
      ],
      "metadata": {
        "colab": {
          "base_uri": "https://localhost:8080/"
        },
        "id": "iZpMSNpaGLIM",
        "outputId": "a97953a5-bb02-4d9f-a906-75199bc74f0e"
      },
      "execution_count": 5,
      "outputs": [
        {
          "output_type": "stream",
          "name": "stdout",
          "text": [
            "odd\n"
          ]
        }
      ]
    },
    {
      "cell_type": "code",
      "source": [
        "#functions with parameters\n",
        "\n",
        "def add(a,b):\n",
        "  return a+b\n",
        "\n",
        "result=add(2,3)\n",
        "print(result)"
      ],
      "metadata": {
        "colab": {
          "base_uri": "https://localhost:8080/"
        },
        "id": "Cr5H8SexGLFc",
        "outputId": "ef8e3286-5daa-4bec-ef98-ae1a127b980e"
      },
      "execution_count": 8,
      "outputs": [
        {
          "output_type": "stream",
          "name": "stdout",
          "text": [
            "5\n"
          ]
        }
      ]
    },
    {
      "cell_type": "code",
      "source": [
        "##Default parameters\n",
        "def greet(name=\"guest\"):\n",
        "  print(f\"hello {name} welcome to the palace\")\n",
        "\n",
        "greet(\"abhi\")"
      ],
      "metadata": {
        "colab": {
          "base_uri": "https://localhost:8080/"
        },
        "id": "caCgaWrBGLCd",
        "outputId": "6852b869-020a-49dd-fdbf-93c33c880c85"
      },
      "execution_count": 14,
      "outputs": [
        {
          "output_type": "stream",
          "name": "stdout",
          "text": [
            "hello abhi welcome to the palace\n"
          ]
        }
      ]
    },
    {
      "cell_type": "code",
      "source": [
        "greet() #missing parameter"
      ],
      "metadata": {
        "colab": {
          "base_uri": "https://localhost:8080/",
          "height": 197
        },
        "id": "SNeptR45GK_8",
        "outputId": "11ed384b-cad2-482e-8f09-2db74888915b"
      },
      "execution_count": 12,
      "outputs": [
        {
          "output_type": "error",
          "ename": "TypeError",
          "evalue": "greet() missing 1 required positional argument: 'name'",
          "traceback": [
            "\u001b[0;31m---------------------------------------------------------------------------\u001b[0m",
            "\u001b[0;31mTypeError\u001b[0m                                 Traceback (most recent call last)",
            "\u001b[0;32m/tmp/ipython-input-3724160537.py\u001b[0m in \u001b[0;36m<cell line: 0>\u001b[0;34m()\u001b[0m\n\u001b[0;32m----> 1\u001b[0;31m \u001b[0mgreet\u001b[0m\u001b[0;34m(\u001b[0m\u001b[0;34m)\u001b[0m \u001b[0;31m#missing parameter\u001b[0m\u001b[0;34m\u001b[0m\u001b[0;34m\u001b[0m\u001b[0m\n\u001b[0m",
            "\u001b[0;31mTypeError\u001b[0m: greet() missing 1 required positional argument: 'name'"
          ]
        }
      ]
    },
    {
      "cell_type": "code",
      "source": [
        "greet() #defualt parameter given"
      ],
      "metadata": {
        "colab": {
          "base_uri": "https://localhost:8080/"
        },
        "id": "RwwuJ2qJGK9O",
        "outputId": "7671055f-671b-4935-f5fb-8cb1cff61d13"
      },
      "execution_count": 16,
      "outputs": [
        {
          "output_type": "stream",
          "name": "stdout",
          "text": [
            "hello guest welcome to the palace\n"
          ]
        }
      ]
    },
    {
      "cell_type": "code",
      "source": [
        "#variable length arguments\n",
        "#positional and keyword arguments\n",
        "#positional arguments\n",
        "def print_numbers(*args): #positional arguments\n",
        "  for num in args:\n",
        "    print(num)"
      ],
      "metadata": {
        "id": "jxSQwmNdGK6a"
      },
      "execution_count": 20,
      "outputs": []
    },
    {
      "cell_type": "code",
      "source": [
        "print_numbers(1,2,3,4,5,6,\"Abhinav\",7)"
      ],
      "metadata": {
        "colab": {
          "base_uri": "https://localhost:8080/"
        },
        "id": "OIh41okLGK3q",
        "outputId": "70746c3d-ae8f-4152-8514-52fc440d03ca"
      },
      "execution_count": 21,
      "outputs": [
        {
          "output_type": "stream",
          "name": "stdout",
          "text": [
            "1\n",
            "2\n",
            "3\n",
            "4\n",
            "5\n",
            "6\n",
            "Abhinav\n",
            "7\n"
          ]
        }
      ]
    },
    {
      "cell_type": "code",
      "source": [
        "#keyword argument\n",
        "\n",
        "def print_details(**kwargs): #keyword argument\n",
        "  for key,value in kwargs.items():\n",
        "    print(f\"{key}:{value}\")"
      ],
      "metadata": {
        "id": "kNDfUC0TGK06"
      },
      "execution_count": 40,
      "outputs": []
    },
    {
      "cell_type": "code",
      "source": [
        "print_details(name=\"abhi\",age=\"32\",Country=\"India\")"
      ],
      "metadata": {
        "colab": {
          "base_uri": "https://localhost:8080/"
        },
        "id": "SX9FlDyaGKyK",
        "outputId": "5ca0319b-614f-46c7-ca47-69e8b11755e5"
      },
      "execution_count": 41,
      "outputs": [
        {
          "output_type": "stream",
          "name": "stdout",
          "text": [
            "name:abhi\n",
            "age:32\n",
            "Country:India\n"
          ]
        }
      ]
    },
    {
      "cell_type": "code",
      "source": [
        "#keyword argument\n",
        "\n",
        "def print_details(*args,**kwargs): #keyword argument\n",
        "  for val in args:\n",
        "    print(f\" positional arguments :{val}\")\n",
        "\n",
        "  for key,value in kwargs.items():\n",
        "    print(f\"{key}:{value}\")"
      ],
      "metadata": {
        "id": "o6iuNn-oGKvr"
      },
      "execution_count": 42,
      "outputs": []
    },
    {
      "cell_type": "code",
      "source": [
        "print_details(1,2,3,4,name=\"abhi\",age=\"32\",Country=\"India\")"
      ],
      "metadata": {
        "colab": {
          "base_uri": "https://localhost:8080/"
        },
        "id": "SPwWeATUKzr8",
        "outputId": "d6e74bed-95e8-45be-957c-b5015d654680"
      },
      "execution_count": 43,
      "outputs": [
        {
          "output_type": "stream",
          "name": "stdout",
          "text": [
            " positional arguments :1\n",
            " positional arguments :2\n",
            " positional arguments :3\n",
            " positional arguments :4\n",
            "name:abhi\n",
            "age:32\n",
            "Country:India\n"
          ]
        }
      ]
    },
    {
      "cell_type": "code",
      "source": [
        "#return statment\n",
        "def multiple(a,b):\n",
        "  return a*b"
      ],
      "metadata": {
        "id": "Xz_XAtWRK-aH"
      },
      "execution_count": 44,
      "outputs": []
    },
    {
      "cell_type": "code",
      "source": [
        "multiple(3,2)"
      ],
      "metadata": {
        "colab": {
          "base_uri": "https://localhost:8080/"
        },
        "id": "tazVvYHTLPKx",
        "outputId": "d6d65bb6-7b7d-40cd-9c12-b3a8a1e61c66"
      },
      "execution_count": 46,
      "outputs": [
        {
          "output_type": "execute_result",
          "data": {
            "text/plain": [
              "6"
            ]
          },
          "metadata": {},
          "execution_count": 46
        }
      ]
    },
    {
      "cell_type": "code",
      "source": [
        "#return multiple parameters\n",
        "def subtract(a,b):\n",
        "  return a-b,a,b"
      ],
      "metadata": {
        "id": "SQ0SfJgCLReA"
      },
      "execution_count": 47,
      "outputs": []
    },
    {
      "cell_type": "code",
      "source": [
        "subtract(10,4)"
      ],
      "metadata": {
        "colab": {
          "base_uri": "https://localhost:8080/"
        },
        "id": "9oORPKMCLcwg",
        "outputId": "b32c60e3-bb19-4c95-d5e7-0ee250f11ed2"
      },
      "execution_count": 48,
      "outputs": [
        {
          "output_type": "execute_result",
          "data": {
            "text/plain": [
              "(6, 10, 4)"
            ]
          },
          "metadata": {},
          "execution_count": 48
        }
      ]
    },
    {
      "cell_type": "code",
      "source": [],
      "metadata": {
        "id": "aJLo9FnwLfa7"
      },
      "execution_count": null,
      "outputs": []
    }
  ]
}