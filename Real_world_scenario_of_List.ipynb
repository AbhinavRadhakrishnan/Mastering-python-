{
  "nbformat": 4,
  "nbformat_minor": 0,
  "metadata": {
    "colab": {
      "provenance": [],
      "authorship_tag": "ABX9TyM6cVfnqdvaiH+ddM4GkJvz",
      "include_colab_link": true
    },
    "kernelspec": {
      "name": "python3",
      "display_name": "Python 3"
    },
    "language_info": {
      "name": "python"
    }
  },
  "cells": [
    {
      "cell_type": "markdown",
      "metadata": {
        "id": "view-in-github",
        "colab_type": "text"
      },
      "source": [
        "<a href=\"https://colab.research.google.com/github/AbhinavRadhakrishnan/Mastering-python-/blob/main/Real_world_scenario_of_List.ipynb\" target=\"_parent\"><img src=\"https://colab.research.google.com/assets/colab-badge.svg\" alt=\"Open In Colab\"/></a>"
      ]
    },
    {
      "cell_type": "markdown",
      "source": [
        "Example 1 : Manage a To DO List\n"
      ],
      "metadata": {
        "id": "iEm0aD3C8RTG"
      }
    },
    {
      "cell_type": "code",
      "source": [
        "#create a to do list to keep track of tasks\n"
      ],
      "metadata": {
        "id": "OfRXEcOi9ivZ"
      },
      "execution_count": 2,
      "outputs": []
    },
    {
      "cell_type": "code",
      "source": [
        "to_do_list=[\"buy Groceries\",'Clean house',\"pay bills\"]\n",
        "\n",
        "#adding to task\n",
        "to_do_list.append(\"shedule meeting\")\n",
        "to_do_list.append(\"go for playing football\")\n",
        "\n",
        "#removing a completed task\n",
        "to_do_list.remove(\"Clean house\")\n",
        "\n",
        "#checking if a task in the list\n",
        "if \"pay bills\" in to_do_list:\n",
        "  print(\"dont' forget to pay \")\n",
        "\n",
        "print(\"To Do List remaining\")\n",
        "for task in to_do_list:\n",
        "  print(f\"-{task}\")\n"
      ],
      "metadata": {
        "colab": {
          "base_uri": "https://localhost:8080/"
        },
        "id": "abNhh97r9n5a",
        "outputId": "9284a870-7510-4067-8fea-425d0f98b272"
      },
      "execution_count": 4,
      "outputs": [
        {
          "output_type": "stream",
          "name": "stdout",
          "text": [
            "dont' forget to pay \n",
            "To Do List remaining\n",
            "-buy Groceries\n",
            "-pay bills\n",
            "-shedule meeting\n",
            "-go for playing football\n"
          ]
        }
      ]
    },
    {
      "cell_type": "markdown",
      "source": [
        "Organizing Student Grades"
      ],
      "metadata": {
        "id": "fIaTol8aEKL3"
      }
    },
    {
      "cell_type": "code",
      "source": [
        "#crete a list to store and calculate avg grades fot students"
      ],
      "metadata": {
        "id": "b0Hz7P0zEcjr"
      },
      "execution_count": 5,
      "outputs": []
    },
    {
      "cell_type": "code",
      "source": [
        "grades=[85,92,78,90,88]\n",
        "\n",
        "#addng new grade\n",
        "grades.append(90)\n",
        "\n",
        "#calulation avg\n",
        "avg_grade = sum(grades)/len(grades)\n",
        "print(f\"Average grade :{avg_grade : 2f}\")\n",
        "\n",
        "#finding the highest and lowest grades\n",
        "high_grade = max(grades)\n",
        "low_grade = min(grades)\n",
        "print(f\"Highest grades : {high_grade}\")\n",
        "print(f\"Lowest grades : {low_grade}\")"
      ],
      "metadata": {
        "colab": {
          "base_uri": "https://localhost:8080/"
        },
        "id": "eFbBY_NkHQgp",
        "outputId": "2e71202d-948c-4129-b2a0-e1e7542ed56e"
      },
      "execution_count": 7,
      "outputs": [
        {
          "output_type": "stream",
          "name": "stdout",
          "text": [
            "Average grade : 87.166667\n",
            "Highest grades : 92\n",
            "Lowest grades : 78\n"
          ]
        }
      ]
    },
    {
      "cell_type": "markdown",
      "source": [
        "Reviewing feedbacks\n"
      ],
      "metadata": {
        "id": "AUhs-_AXHcs-"
      }
    },
    {
      "cell_type": "code",
      "source": [
        "#collecting user feedback\n",
        "feedback = [\"great service\",\"excellent experience\",\"Good keep going\",\"Not that great\",\"bad experice!!\"]\n",
        "\n",
        "#adding new feedback\n",
        "feedback.append(\"Not happy\")\n",
        "\n",
        "#counting no: of positive feedback\n",
        "positive_feedback = sum(1 for comment in feedback if \"good\" in comment.lower() or \"excellent\" in comment.lower() or \"great\" in comment.lower())\n",
        "print(f\"postive feedback : {positive_feedback}\")\n",
        "\n",
        "#print all feedback\n",
        "print(\"user feedback :\" )\n",
        "for comment in feedback:\n",
        "  print(f\"-{comment}\")"
      ],
      "metadata": {
        "colab": {
          "base_uri": "https://localhost:8080/"
        },
        "id": "cLtcC39-I-H8",
        "outputId": "2579423f-561f-4e53-f304-c29a5a9861cf"
      },
      "execution_count": 8,
      "outputs": [
        {
          "output_type": "stream",
          "name": "stdout",
          "text": [
            "postive feedback : 4\n",
            "user feedback :\n",
            "-great service\n",
            "-excellent experience\n",
            "-Good keep going\n",
            "-Not that great\n",
            "-bad experice!!\n",
            "-Not happy\n"
          ]
        }
      ]
    },
    {
      "cell_type": "code",
      "source": [],
      "metadata": {
        "id": "rgCXqMS0KRsy"
      },
      "execution_count": null,
      "outputs": []
    }
  ]
}