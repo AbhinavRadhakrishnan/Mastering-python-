{
  "nbformat": 4,
  "nbformat_minor": 0,
  "metadata": {
    "colab": {
      "provenance": [],
      "authorship_tag": "ABX9TyP4q45eWTVXkgWSIavJnZeN",
      "include_colab_link": true
    },
    "kernelspec": {
      "name": "python3",
      "display_name": "Python 3"
    },
    "language_info": {
      "name": "python"
    }
  },
  "cells": [
    {
      "cell_type": "markdown",
      "metadata": {
        "id": "view-in-github",
        "colab_type": "text"
      },
      "source": [
        "<a href=\"https://colab.research.google.com/github/AbhinavRadhakrishnan/Mastering-python-/blob/main/function_Examples.ipynb\" target=\"_parent\"><img src=\"https://colab.research.google.com/assets/colab-badge.svg\" alt=\"Open In Colab\"/></a>"
      ]
    },
    {
      "cell_type": "code",
      "execution_count": 4,
      "metadata": {
        "colab": {
          "base_uri": "https://localhost:8080/"
        },
        "id": "CUIfOCbl_oH3",
        "outputId": "150a2a92-00cc-4940-c9f8-07020a3bb5ee"
      },
      "outputs": [
        {
          "output_type": "execute_result",
          "data": {
            "text/plain": [
              "212.0"
            ]
          },
          "metadata": {},
          "execution_count": 4
        }
      ],
      "source": [
        "#temperature conversion\n",
        "\n",
        "def tempature_conversion(temp,unit):\n",
        "  \"\"\"this function converts temperature between celsius to fahrenheit\"\"\"\n",
        "  if unit==\"c\":\n",
        "    return temp * 9/5 +32\n",
        "  elif unit==\"f\":\n",
        "    return (temp-32)*5/9\n",
        "  else:\n",
        "    return None\n",
        "\n",
        "tempature_conversion(100,\"c\")\n"
      ]
    },
    {
      "cell_type": "code",
      "source": [
        "#Password strength checker\n",
        "def is_strong_pass(password):\n",
        "  if len(password)<8:\n",
        "    #print(\"password is too short\")\n",
        "    return False\n",
        "  if not any(char.isdigit() for char in password):\n",
        "    #print(\"password should have a number\")\n",
        "    return False\n",
        "  if not any(char.islower() for char in password):\n",
        "    return False\n",
        "    #print(\"password must contain all lower case\")\n",
        "  if not any(char.isupper() for char in password):\n",
        "    return False\n",
        "    #print(\"password must contain all upper case\")\n",
        "  if not any(char in '!@#$%^&*()_+'for char in password):\n",
        "    return False\n",
        "    #print(\"should\")\n",
        "  return True\n",
        "\n",
        "  #calling the function\n",
        "\n",
        "print(is_strong_pass(\"weakPwd\"))\n",
        "print(is_strong_pass(\"StrongPass@123\"))\n",
        "\n"
      ],
      "metadata": {
        "colab": {
          "base_uri": "https://localhost:8080/"
        },
        "id": "Pf49KIJ9AoYW",
        "outputId": "7be9e061-4802-43e8-f518-572288135732"
      },
      "execution_count": 8,
      "outputs": [
        {
          "output_type": "stream",
          "name": "stdout",
          "text": [
            "False\n",
            "True\n"
          ]
        }
      ]
    },
    {
      "cell_type": "code",
      "source": [
        "#calulate total cost in a shopping cart\n",
        "\n",
        "def calculate_total_cost(cart):\n",
        "  total_cost=0\n",
        "  for item in cart:\n",
        "     total_cost+= item['price']\n",
        "  return total_cost\n",
        "\n",
        "#example cart data\n",
        "\n",
        "cart =[\n",
        "    {\"name\":\"apple\",\"price\": 0.5,\"quantity\":4},\n",
        "    {\"name\":\"banana\",\"price\": 0.3,\"quantity\":6},\n",
        "    {\"name\":\"orange\",\"price\": 0.7,\"quantity\":3},\n",
        "]\n",
        "\n",
        "\n",
        "#calling the function\n",
        "total_cost1 = calculate_total_cost(cart)\n",
        "print(total_cost1)"
      ],
      "metadata": {
        "colab": {
          "base_uri": "https://localhost:8080/"
        },
        "id": "fNAs-uW4G-Gt",
        "outputId": "d9a0c755-ba8b-4db4-8170-718c4486e7f7"
      },
      "execution_count": 10,
      "outputs": [
        {
          "output_type": "stream",
          "name": "stdout",
          "text": [
            "1.5\n"
          ]
        }
      ]
    },
    {
      "cell_type": "code",
      "source": [
        "#check if string is palindrome\n",
        "def is_palindrome(s):\n",
        "  s=s.lower().replace(\" \",\"\")\n",
        "  return s==s[::-1]\n",
        "\n",
        "\n",
        "print(is_palindrome(\"A man a Plan a canal Panama\"))\n",
        "print(is_palindrome(\"hello\"))\n"
      ],
      "metadata": {
        "colab": {
          "base_uri": "https://localhost:8080/"
        },
        "id": "utJGVhUTIddV",
        "outputId": "c164ca24-ab49-4161-8baa-a9aed91cb118"
      },
      "execution_count": 18,
      "outputs": [
        {
          "output_type": "stream",
          "name": "stdout",
          "text": [
            "True\n",
            "False\n"
          ]
        }
      ]
    },
    {
      "cell_type": "code",
      "source": [
        "#calculate factorials of number using recursion\n",
        "def fact(n):\n",
        "  if n==0:\n",
        "    return 1\n",
        "  else:\n",
        "    return n*fact(n-1)\n",
        "fact(5)\n",
        "fact(20)\n"
      ],
      "metadata": {
        "colab": {
          "base_uri": "https://localhost:8080/"
        },
        "id": "rbGu-DxWKJzB",
        "outputId": "35a96505-1dad-4ad1-fe57-ae0d3da37a10"
      },
      "execution_count": 21,
      "outputs": [
        {
          "output_type": "execute_result",
          "data": {
            "text/plain": [
              "2432902008176640000"
            ]
          },
          "metadata": {},
          "execution_count": 21
        }
      ]
    },
    {
      "cell_type": "code",
      "source": [
        "#funtion to validate email address\n",
        "import re\n",
        "def validate_email(email):\n",
        "  pattern = r'^[a-zA-Z0-9._%+-]+@[a-zA-Z0-9.-]+\\.[a-zA]'\n",
        "  return re.match(pattern, email) is not None\n",
        "print(validate_email(\"Abhimail.com\"))\n",
        "print(validate_email(\"Abhi@mail.com\"))"
      ],
      "metadata": {
        "colab": {
          "base_uri": "https://localhost:8080/"
        },
        "id": "pkEOB8-II8Gy",
        "outputId": "93bbe3d9-03e2-40f2-cc29-73d9d13f6006"
      },
      "execution_count": 23,
      "outputs": [
        {
          "output_type": "stream",
          "name": "stdout",
          "text": [
            "False\n",
            "True\n"
          ]
        }
      ]
    },
    {
      "cell_type": "code",
      "source": [],
      "metadata": {
        "id": "4x5TOufqOZPp"
      },
      "execution_count": null,
      "outputs": []
    }
  ]
}